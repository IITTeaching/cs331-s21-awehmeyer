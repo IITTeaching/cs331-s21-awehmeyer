{
 "cells": [
  {
   "cell_type": "markdown",
   "metadata": {
    "collapsed": false
   },
   "source": [
    "Priority Queues\n",
    "===============\n",
    "\n"
   ]
  },
  {
   "cell_type": "markdown",
   "metadata": {
    "collapsed": false
   },
   "source": [
    "## Agenda\n",
    "\n"
   ]
  },
  {
   "cell_type": "markdown",
   "metadata": {
    "collapsed": false
   },
   "source": [
    "1.  Motives\n",
    "2.  Naive implementation\n",
    "3.  Heaps\n",
    "    -   Mechanics\n",
    "    -   Implementation\n",
    "    -   Run-time Analysis\n",
    "\n",
    "4.  Heapsort\n",
    "\n"
   ]
  },
  {
   "cell_type": "markdown",
   "metadata": {
    "collapsed": false
   },
   "source": [
    "## 1.  Motives\n",
    "\n"
   ]
  },
  {
   "cell_type": "markdown",
   "metadata": {
    "collapsed": false
   },
   "source": [
    "## 1.  Naive implementation\n",
    "\n"
   ]
  },
  {
   "cell_type": "code",
   "execution_count": 1,
   "metadata": {
    "collapsed": false
   },
   "outputs": [],
   "source": [
    "class PriorityQueue:\n",
    "    def __init__(self):\n",
    "        self.data = []\n",
    "\n",
    "    def add(self, x):\n",
    "        self.data.append(x)\n",
    "        self.data = sorted(self.data)\n",
    "\n",
    "    def max(self):\n",
    "        return self.data[-1]\n",
    "\n",
    "    def pop_max(self):\n",
    "        m = self.data[-1]\n",
    "        del self.data[-1]\n",
    "        return m\n",
    "\n",
    "    def __bool__(self):\n",
    "        return len(self.data) > 0\n",
    "\n",
    "    def __len__(self):\n",
    "        return len(self.data)\n",
    "\n",
    "    def __repr__(self):\n",
    "        return repr(self.data)"
   ]
  },
  {
   "cell_type": "code",
   "execution_count": 2,
   "metadata": {
    "collapsed": false
   },
   "outputs": [],
   "source": [
    "pq = PriorityQueue()"
   ]
  },
  {
   "cell_type": "code",
   "execution_count": 3,
   "metadata": {
    "collapsed": false
   },
   "outputs": [],
   "source": [
    "import random\n",
    "for _ in range(10):\n",
    "    pq.add(random.randrange(100))"
   ]
  },
  {
   "cell_type": "code",
   "execution_count": 4,
   "metadata": {
    "collapsed": false
   },
   "outputs": [
    {
     "output_type": "execute_result",
     "data": {
      "text/plain": [
       "[30, 30, 41, 50, 51, 54, 54, 58, 84, 90]"
      ]
     },
     "metadata": {},
     "execution_count": 4
    }
   ],
   "source": [
    "pq"
   ]
  },
  {
   "cell_type": "code",
   "execution_count": 5,
   "metadata": {
    "collapsed": false
   },
   "outputs": [
    {
     "output_type": "stream",
     "name": "stdout",
     "text": [
      "90\n84\n58\n54\n54\n51\n50\n41\n30\n30\n"
     ]
    }
   ],
   "source": [
    "while pq:\n",
    "    print(pq.pop_max())"
   ]
  },
  {
   "cell_type": "markdown",
   "metadata": {
    "collapsed": false
   },
   "source": [
    "## 1.  Heaps\n",
    "\n"
   ]
  },
  {
   "cell_type": "markdown",
   "metadata": {
    "collapsed": false
   },
   "source": [
    "### Mechanics\n",
    "\n"
   ]
  },
  {
   "cell_type": "markdown",
   "metadata": {
    "collapsed": false
   },
   "source": [
    "### Implementation\n",
    "\n"
   ]
  },
  {
   "cell_type": "code",
   "execution_count": 6,
   "metadata": {
    "collapsed": false
   },
   "outputs": [],
   "source": [
    "class Heap:\n",
    "    def __init__(self):\n",
    "        self.data = []\n",
    "\n",
    "    @staticmethod\n",
    "    def parent(n):\n",
    "        return (n - 1) // 2\n",
    "\n",
    "    @staticmethod\n",
    "    def left_child(n):\n",
    "        return 2 * n + 1\n",
    "\n",
    "    @staticmethod\n",
    "    def right_child(n):\n",
    "        return 2 * n + 2\n",
    "\n",
    "    def pos_exists(self, n):\n",
    "        return n < len(self)\n",
    "\n",
    "    def switch_node(self, parent, child):\n",
    "        parentval = self.data[parent]\n",
    "        childval = self.data[child]\n",
    "        self.data[parent] = childval\n",
    "        self.data[child] = parentval\n",
    "\n",
    "    def trickle_down(self, n):\n",
    "        lc = Heap.left_child(n)\n",
    "        rc = Heap.right_child(n)\n",
    "        curval = self.data[n]\n",
    "        #print(f\" pos={n}:{curval} with heap {self}\")\n",
    "        if self.pos_exists(lc):\n",
    "            if self.pos_exists(rc):\n",
    "                lcval = self.data[lc]\n",
    "                rcval = self.data[rc]\n",
    "                #print(f\"node {n}:{curval} with left: {lc}:{lcval} and  right: {rc}:{rcval}\")\n",
    "                if lcval > curval or rcval > curval:\n",
    "                    if lcval > rcval:\n",
    "                        #print(\"switch with left\")\n",
    "                        self.switch_node(n, lc)\n",
    "                        self.trickle_down(lc)\n",
    "                    else:\n",
    "                        #print(\"switch with right\")\n",
    "                        self.switch_node(n, rc)\n",
    "                        self.trickle_down(rc)\n",
    "            else:\n",
    "                lcval = self.data[lc]\n",
    "                #print(f\"node {n}:{curval} with left: {lc}:{lcval}\")\n",
    "                if lcval > curval:\n",
    "                    #print(\"switch with left\")\n",
    "                    self.switch_node(n, lc)\n",
    "                    self.trickle_down(lc)\n",
    "        elif self.pos_exists(rc):\n",
    "            rcval = self.data[rc]\n",
    "            #print(f\"node {n}:{curval} with right: {rc}:{rcval}\")\n",
    "            if rcval > curval:\n",
    "                #print(\"switch with right\")\n",
    "                self.switch_node(n, rc)\n",
    "                self.trickle_down(rc)\n",
    "\n",
    "    def trickle_up(self, n):\n",
    "        if n > 0:\n",
    "            p = Heap.parent(n)\n",
    "            pval = self.data[p]\n",
    "            curval = self.data[n]\n",
    "            if pval < curval:\n",
    "                self.switch_node(p,n)\n",
    "                self.trickle_up(p)\n",
    "\n",
    "    def add(self, x): # O(log n)\n",
    "        self.data.append(x)\n",
    "        self.trickle_up(len(self.data) - 1)\n",
    "\n",
    "    def max(self): # O(1)\n",
    "        self.data[0]\n",
    "\n",
    "    def pop_max(self): # O(log n)\n",
    "        m = self.data[0]\n",
    "        self.data[0] = self.data[-1]\n",
    "        del self.data[-1]\n",
    "        if len(self.data) > 0:\n",
    "            self.trickle_down(0)\n",
    "        return m\n",
    "\n",
    "    def check_heap(self, pos):\n",
    "        v = self.data[pos]\n",
    "        lc = Heap.left_child(pos)\n",
    "        rc = Heap.right_child(pos)\n",
    "        #print(f\"check {pos} of {len(self)} -> [{lc},{rc}]\")\n",
    "        if self.pos_exists(lc):\n",
    "            lv = self.data[lc]\n",
    "            if v < lv:\n",
    "                #print(f\"left child is {lv} of node with {v}@{pos}\")\n",
    "                return False\n",
    "            self.check_heap(lc)\n",
    "        if self.pos_exists(rc):\n",
    "            rv = self.data[rc]\n",
    "            if v < rv:\n",
    "                #print(f\"right child is {rv} of node with {v}@{pos}\")\n",
    "                return False\n",
    "            self.check_heap(rc)\n",
    "        return True\n",
    "\n",
    "    def __bool__(self):\n",
    "        return len(self.data) > 0\n",
    "\n",
    "    def __len__(self):\n",
    "        return len(self.data)\n",
    "\n",
    "    def __repr__(self):\n",
    "        return repr(self.data)"
   ]
  },
  {
   "cell_type": "code",
   "execution_count": 2,
   "metadata": {
    "collapsed": false
   },
   "outputs": [],
   "source": [
    "h = Heap()"
   ]
  },
  {
   "cell_type": "code",
   "execution_count": 3,
   "metadata": {
    "collapsed": false
   },
   "outputs": [],
   "source": [
    "import random\n",
    "for _ in range(10):\n",
    "    h.add(random.randrange(100))"
   ]
  },
  {
   "cell_type": "code",
   "execution_count": 4,
   "metadata": {
    "collapsed": false
   },
   "outputs": [
    {
     "output_type": "execute_result",
     "data": {
      "text/plain": [
       "[90, 83, 74, 46, 38, 38, 55, 6, 37, 0]"
      ]
     },
     "metadata": {},
     "execution_count": 4
    }
   ],
   "source": [
    "h"
   ]
  },
  {
   "cell_type": "code",
   "execution_count": 5,
   "metadata": {
    "collapsed": false
   },
   "outputs": [
    {
     "output_type": "stream",
     "name": "stdout",
     "text": [
      "90\n83\n74\n55\n46\n38\n38\n37\n6\n0\n"
     ]
    }
   ],
   "source": [
    "while h:\n",
    "    print(h.pop_max()) ### this is a semi-efficient sorting algorithm O(n log n)"
   ]
  },
  {
   "cell_type": "markdown",
   "metadata": {
    "collapsed": false
   },
   "source": [
    "### Run-time Analysis\n",
    "\n"
   ]
  },
  {
   "cell_type": "markdown",
   "metadata": {
    "collapsed": false
   },
   "source": [
    "## 1.  Heapsort\n",
    "\n"
   ]
  },
  {
   "cell_type": "code",
   "execution_count": 11,
   "metadata": {
    "collapsed": false
   },
   "outputs": [],
   "source": [
    "def heapsort(iterable):\n",
    "    heap = Heap()\n",
    "    for i in iterable:\n",
    "        heap.add(i)\n",
    "    s = [None] * len(heap)\n",
    "    for i in range(-1, -1 * len(s) -1, -1):\n",
    "        s[i] = heap.pop_max()\n",
    "    return s"
   ]
  },
  {
   "cell_type": "code",
   "execution_count": 12,
   "metadata": {
    "collapsed": false
   },
   "outputs": [
    {
     "output_type": "error",
     "ename": "RuntimeError",
     "evalue": "generator raised StopIteration",
     "traceback": [
      "\u001b[0;31m---------------------------------------------------------------------------\u001b[0m",
      "\u001b[0;31mStopIteration\u001b[0m                             Traceback (most recent call last)",
      "\u001b[0;32m<ipython-input-12-5de6d1eed829>\u001b[0m in \u001b[0;36mpairs\u001b[0;34m(iterable)\u001b[0m\n\u001b[1;32m      6\u001b[0m     \u001b[0;32mwhile\u001b[0m \u001b[0;32mTrue\u001b[0m\u001b[0;34m:\u001b[0m\u001b[0;34m\u001b[0m\u001b[0;34m\u001b[0m\u001b[0m\n\u001b[0;32m----> 7\u001b[0;31m         \u001b[0mb\u001b[0m \u001b[0;34m=\u001b[0m \u001b[0mnext\u001b[0m\u001b[0;34m(\u001b[0m\u001b[0mit\u001b[0m\u001b[0;34m)\u001b[0m\u001b[0;34m\u001b[0m\u001b[0;34m\u001b[0m\u001b[0m\n\u001b[0m\u001b[1;32m      8\u001b[0m         \u001b[0;32myield\u001b[0m \u001b[0ma\u001b[0m\u001b[0;34m,\u001b[0m\u001b[0mb\u001b[0m\u001b[0;34m\u001b[0m\u001b[0;34m\u001b[0m\u001b[0m\n",
      "\u001b[0;31mStopIteration\u001b[0m: ",
      "\nThe above exception was the direct cause of the following exception:\n",
      "\u001b[0;31mRuntimeError\u001b[0m                              Traceback (most recent call last)",
      "\u001b[0;32m<ipython-input-12-5de6d1eed829>\u001b[0m in \u001b[0;36m<module>\u001b[0;34m\u001b[0m\n\u001b[1;32m     10\u001b[0m \u001b[0;34m\u001b[0m\u001b[0m\n\u001b[1;32m     11\u001b[0m \u001b[0mlst\u001b[0m \u001b[0;34m=\u001b[0m \u001b[0mheapsort\u001b[0m\u001b[0;34m(\u001b[0m\u001b[0mrandom\u001b[0m\u001b[0;34m.\u001b[0m\u001b[0mrandom\u001b[0m\u001b[0;34m(\u001b[0m\u001b[0;34m)\u001b[0m \u001b[0;32mfor\u001b[0m \u001b[0m_\u001b[0m \u001b[0;32min\u001b[0m \u001b[0mrange\u001b[0m\u001b[0;34m(\u001b[0m\u001b[0;36m1000\u001b[0m\u001b[0;34m)\u001b[0m\u001b[0;34m)\u001b[0m\u001b[0;34m\u001b[0m\u001b[0;34m\u001b[0m\u001b[0m\n\u001b[0;32m---> 12\u001b[0;31m \u001b[0mall\u001b[0m\u001b[0;34m(\u001b[0m\u001b[0;34m(\u001b[0m\u001b[0ma\u001b[0m \u001b[0;34m<=\u001b[0m \u001b[0mb\u001b[0m\u001b[0;34m)\u001b[0m \u001b[0;32mfor\u001b[0m \u001b[0ma\u001b[0m\u001b[0;34m,\u001b[0m \u001b[0mb\u001b[0m \u001b[0;32min\u001b[0m \u001b[0mpairs\u001b[0m\u001b[0;34m(\u001b[0m\u001b[0mlst\u001b[0m\u001b[0;34m)\u001b[0m\u001b[0;34m)\u001b[0m\u001b[0;34m\u001b[0m\u001b[0;34m\u001b[0m\u001b[0m\n\u001b[0m",
      "\u001b[0;32m<ipython-input-12-5de6d1eed829>\u001b[0m in \u001b[0;36m<genexpr>\u001b[0;34m(.0)\u001b[0m\n\u001b[1;32m     10\u001b[0m \u001b[0;34m\u001b[0m\u001b[0m\n\u001b[1;32m     11\u001b[0m \u001b[0mlst\u001b[0m \u001b[0;34m=\u001b[0m \u001b[0mheapsort\u001b[0m\u001b[0;34m(\u001b[0m\u001b[0mrandom\u001b[0m\u001b[0;34m.\u001b[0m\u001b[0mrandom\u001b[0m\u001b[0;34m(\u001b[0m\u001b[0;34m)\u001b[0m \u001b[0;32mfor\u001b[0m \u001b[0m_\u001b[0m \u001b[0;32min\u001b[0m \u001b[0mrange\u001b[0m\u001b[0;34m(\u001b[0m\u001b[0;36m1000\u001b[0m\u001b[0;34m)\u001b[0m\u001b[0;34m)\u001b[0m\u001b[0;34m\u001b[0m\u001b[0;34m\u001b[0m\u001b[0m\n\u001b[0;32m---> 12\u001b[0;31m \u001b[0mall\u001b[0m\u001b[0;34m(\u001b[0m\u001b[0;34m(\u001b[0m\u001b[0ma\u001b[0m \u001b[0;34m<=\u001b[0m \u001b[0mb\u001b[0m\u001b[0;34m)\u001b[0m \u001b[0;32mfor\u001b[0m \u001b[0ma\u001b[0m\u001b[0;34m,\u001b[0m \u001b[0mb\u001b[0m \u001b[0;32min\u001b[0m \u001b[0mpairs\u001b[0m\u001b[0;34m(\u001b[0m\u001b[0mlst\u001b[0m\u001b[0;34m)\u001b[0m\u001b[0;34m)\u001b[0m\u001b[0;34m\u001b[0m\u001b[0;34m\u001b[0m\u001b[0m\n\u001b[0m",
      "\u001b[0;31mRuntimeError\u001b[0m: generator raised StopIteration"
     ]
    }
   ],
   "source": [
    "import random\n",
    "\n",
    "def pairs(iterable):\n",
    "    it = iter(iterable)\n",
    "    a = next(it)\n",
    "    while True:\n",
    "        b = next(it)\n",
    "        yield a,b\n",
    "        a = b\n",
    "\n",
    "lst = heapsort(random.random() for _ in range(1000))\n",
    "all((a <= b) for a, b in pairs(lst))"
   ]
  },
  {
   "cell_type": "code",
   "execution_count": 13,
   "metadata": {
    "collapsed": false
   },
   "outputs": [],
   "source": [
    "import timeit\n",
    "def time_heapsort(n):\n",
    "    return timeit.timeit('heapsort(rlst)',\n",
    "                         'from __main__ import heapsort; '\n",
    "                         'import random; '\n",
    "                         'rlst = (random.random() for _ in range({}))'.format(n),\n",
    "                         number=1000)"
   ]
  },
  {
   "cell_type": "code",
   "execution_count": 14,
   "metadata": {
    "collapsed": false
   },
   "outputs": [
    {
     "output_type": "display_data",
     "data": {
      "text/plain": "<Figure size 432x288 with 1 Axes>",
      "image/svg+xml": "<?xml version=\"1.0\" encoding=\"utf-8\" standalone=\"no\"?>\n<!DOCTYPE svg PUBLIC \"-//W3C//DTD SVG 1.1//EN\"\n  \"http://www.w3.org/Graphics/SVG/1.1/DTD/svg11.dtd\">\n<!-- Created with matplotlib (https://matplotlib.org/) -->\n<svg height=\"248.518125pt\" version=\"1.1\" viewBox=\"0 0 379.153693 248.518125\" width=\"379.153693pt\" xmlns=\"http://www.w3.org/2000/svg\" xmlns:xlink=\"http://www.w3.org/1999/xlink\">\n <metadata>\n  <rdf:RDF xmlns:cc=\"http://creativecommons.org/ns#\" xmlns:dc=\"http://purl.org/dc/elements/1.1/\" xmlns:rdf=\"http://www.w3.org/1999/02/22-rdf-syntax-ns#\">\n   <cc:Work>\n    <dc:type rdf:resource=\"http://purl.org/dc/dcmitype/StillImage\"/>\n    <dc:date>2021-04-14T18:14:32.463255</dc:date>\n    <dc:format>image/svg+xml</dc:format>\n    <dc:creator>\n     <cc:Agent>\n      <dc:title>Matplotlib v3.3.4, https://matplotlib.org/</dc:title>\n     </cc:Agent>\n    </dc:creator>\n   </cc:Work>\n  </rdf:RDF>\n </metadata>\n <defs>\n  <style type=\"text/css\">*{stroke-linecap:butt;stroke-linejoin:round;}</style>\n </defs>\n <g id=\"figure_1\">\n  <g id=\"patch_1\">\n   <path d=\"M 0 248.518125 \nL 379.153693 248.518125 \nL 379.153693 0 \nL 0 0 \nz\n\" style=\"fill:none;\"/>\n  </g>\n  <g id=\"axes_1\">\n   <g id=\"patch_2\">\n    <path d=\"M 36.465625 224.64 \nL 371.265625 224.64 \nL 371.265625 7.2 \nL 36.465625 7.2 \nz\n\" style=\"fill:#ffffff;\"/>\n   </g>\n   <g id=\"matplotlib.axis_1\">\n    <g id=\"xtick_1\">\n     <g id=\"line2d_1\">\n      <defs>\n       <path d=\"M 0 0 \nL 0 3.5 \n\" id=\"m22ffe6dda0\" style=\"stroke:#000000;stroke-width:0.8;\"/>\n      </defs>\n      <g>\n       <use style=\"stroke:#000000;stroke-width:0.8;\" x=\"48.609427\" xlink:href=\"#m22ffe6dda0\" y=\"224.64\"/>\n      </g>\n     </g>\n     <g id=\"text_1\">\n      <!-- 0 -->\n      <g transform=\"translate(45.428177 239.238437)scale(0.1 -0.1)\">\n       <defs>\n        <path d=\"M 31.78125 66.40625 \nQ 24.171875 66.40625 20.328125 58.90625 \nQ 16.5 51.421875 16.5 36.375 \nQ 16.5 21.390625 20.328125 13.890625 \nQ 24.171875 6.390625 31.78125 6.390625 \nQ 39.453125 6.390625 43.28125 13.890625 \nQ 47.125 21.390625 47.125 36.375 \nQ 47.125 51.421875 43.28125 58.90625 \nQ 39.453125 66.40625 31.78125 66.40625 \nz\nM 31.78125 74.21875 \nQ 44.046875 74.21875 50.515625 64.515625 \nQ 56.984375 54.828125 56.984375 36.375 \nQ 56.984375 17.96875 50.515625 8.265625 \nQ 44.046875 -1.421875 31.78125 -1.421875 \nQ 19.53125 -1.421875 13.0625 8.265625 \nQ 6.59375 17.96875 6.59375 36.375 \nQ 6.59375 54.828125 13.0625 64.515625 \nQ 19.53125 74.21875 31.78125 74.21875 \nz\n\" id=\"DejaVuSans-48\"/>\n       </defs>\n       <use xlink:href=\"#DejaVuSans-48\"/>\n      </g>\n     </g>\n    </g>\n    <g id=\"xtick_2\">\n     <g id=\"line2d_2\">\n      <g>\n       <use style=\"stroke:#000000;stroke-width:0.8;\" x=\"110.09703\" xlink:href=\"#m22ffe6dda0\" y=\"224.64\"/>\n      </g>\n     </g>\n     <g id=\"text_2\">\n      <!-- 2000 -->\n      <g transform=\"translate(97.37203 239.238437)scale(0.1 -0.1)\">\n       <defs>\n        <path d=\"M 19.1875 8.296875 \nL 53.609375 8.296875 \nL 53.609375 0 \nL 7.328125 0 \nL 7.328125 8.296875 \nQ 12.9375 14.109375 22.625 23.890625 \nQ 32.328125 33.6875 34.8125 36.53125 \nQ 39.546875 41.84375 41.421875 45.53125 \nQ 43.3125 49.21875 43.3125 52.78125 \nQ 43.3125 58.59375 39.234375 62.25 \nQ 35.15625 65.921875 28.609375 65.921875 \nQ 23.96875 65.921875 18.8125 64.3125 \nQ 13.671875 62.703125 7.8125 59.421875 \nL 7.8125 69.390625 \nQ 13.765625 71.78125 18.9375 73 \nQ 24.125 74.21875 28.421875 74.21875 \nQ 39.75 74.21875 46.484375 68.546875 \nQ 53.21875 62.890625 53.21875 53.421875 \nQ 53.21875 48.921875 51.53125 44.890625 \nQ 49.859375 40.875 45.40625 35.40625 \nQ 44.1875 33.984375 37.640625 27.21875 \nQ 31.109375 20.453125 19.1875 8.296875 \nz\n\" id=\"DejaVuSans-50\"/>\n       </defs>\n       <use xlink:href=\"#DejaVuSans-50\"/>\n       <use x=\"63.623047\" xlink:href=\"#DejaVuSans-48\"/>\n       <use x=\"127.246094\" xlink:href=\"#DejaVuSans-48\"/>\n       <use x=\"190.869141\" xlink:href=\"#DejaVuSans-48\"/>\n      </g>\n     </g>\n    </g>\n    <g id=\"xtick_3\">\n     <g id=\"line2d_3\">\n      <g>\n       <use style=\"stroke:#000000;stroke-width:0.8;\" x=\"171.584633\" xlink:href=\"#m22ffe6dda0\" y=\"224.64\"/>\n      </g>\n     </g>\n     <g id=\"text_3\">\n      <!-- 4000 -->\n      <g transform=\"translate(158.859633 239.238437)scale(0.1 -0.1)\">\n       <defs>\n        <path d=\"M 37.796875 64.3125 \nL 12.890625 25.390625 \nL 37.796875 25.390625 \nz\nM 35.203125 72.90625 \nL 47.609375 72.90625 \nL 47.609375 25.390625 \nL 58.015625 25.390625 \nL 58.015625 17.1875 \nL 47.609375 17.1875 \nL 47.609375 0 \nL 37.796875 0 \nL 37.796875 17.1875 \nL 4.890625 17.1875 \nL 4.890625 26.703125 \nz\n\" id=\"DejaVuSans-52\"/>\n       </defs>\n       <use xlink:href=\"#DejaVuSans-52\"/>\n       <use x=\"63.623047\" xlink:href=\"#DejaVuSans-48\"/>\n       <use x=\"127.246094\" xlink:href=\"#DejaVuSans-48\"/>\n       <use x=\"190.869141\" xlink:href=\"#DejaVuSans-48\"/>\n      </g>\n     </g>\n    </g>\n    <g id=\"xtick_4\">\n     <g id=\"line2d_4\">\n      <g>\n       <use style=\"stroke:#000000;stroke-width:0.8;\" x=\"233.072237\" xlink:href=\"#m22ffe6dda0\" y=\"224.64\"/>\n      </g>\n     </g>\n     <g id=\"text_4\">\n      <!-- 6000 -->\n      <g transform=\"translate(220.347237 239.238437)scale(0.1 -0.1)\">\n       <defs>\n        <path d=\"M 33.015625 40.375 \nQ 26.375 40.375 22.484375 35.828125 \nQ 18.609375 31.296875 18.609375 23.390625 \nQ 18.609375 15.53125 22.484375 10.953125 \nQ 26.375 6.390625 33.015625 6.390625 \nQ 39.65625 6.390625 43.53125 10.953125 \nQ 47.40625 15.53125 47.40625 23.390625 \nQ 47.40625 31.296875 43.53125 35.828125 \nQ 39.65625 40.375 33.015625 40.375 \nz\nM 52.59375 71.296875 \nL 52.59375 62.3125 \nQ 48.875 64.0625 45.09375 64.984375 \nQ 41.3125 65.921875 37.59375 65.921875 \nQ 27.828125 65.921875 22.671875 59.328125 \nQ 17.53125 52.734375 16.796875 39.40625 \nQ 19.671875 43.65625 24.015625 45.921875 \nQ 28.375 48.1875 33.59375 48.1875 \nQ 44.578125 48.1875 50.953125 41.515625 \nQ 57.328125 34.859375 57.328125 23.390625 \nQ 57.328125 12.15625 50.6875 5.359375 \nQ 44.046875 -1.421875 33.015625 -1.421875 \nQ 20.359375 -1.421875 13.671875 8.265625 \nQ 6.984375 17.96875 6.984375 36.375 \nQ 6.984375 53.65625 15.1875 63.9375 \nQ 23.390625 74.21875 37.203125 74.21875 \nQ 40.921875 74.21875 44.703125 73.484375 \nQ 48.484375 72.75 52.59375 71.296875 \nz\n\" id=\"DejaVuSans-54\"/>\n       </defs>\n       <use xlink:href=\"#DejaVuSans-54\"/>\n       <use x=\"63.623047\" xlink:href=\"#DejaVuSans-48\"/>\n       <use x=\"127.246094\" xlink:href=\"#DejaVuSans-48\"/>\n       <use x=\"190.869141\" xlink:href=\"#DejaVuSans-48\"/>\n      </g>\n     </g>\n    </g>\n    <g id=\"xtick_5\">\n     <g id=\"line2d_5\">\n      <g>\n       <use style=\"stroke:#000000;stroke-width:0.8;\" x=\"294.55984\" xlink:href=\"#m22ffe6dda0\" y=\"224.64\"/>\n      </g>\n     </g>\n     <g id=\"text_5\">\n      <!-- 8000 -->\n      <g transform=\"translate(281.83484 239.238437)scale(0.1 -0.1)\">\n       <defs>\n        <path d=\"M 31.78125 34.625 \nQ 24.75 34.625 20.71875 30.859375 \nQ 16.703125 27.09375 16.703125 20.515625 \nQ 16.703125 13.921875 20.71875 10.15625 \nQ 24.75 6.390625 31.78125 6.390625 \nQ 38.8125 6.390625 42.859375 10.171875 \nQ 46.921875 13.96875 46.921875 20.515625 \nQ 46.921875 27.09375 42.890625 30.859375 \nQ 38.875 34.625 31.78125 34.625 \nz\nM 21.921875 38.8125 \nQ 15.578125 40.375 12.03125 44.71875 \nQ 8.5 49.078125 8.5 55.328125 \nQ 8.5 64.0625 14.71875 69.140625 \nQ 20.953125 74.21875 31.78125 74.21875 \nQ 42.671875 74.21875 48.875 69.140625 \nQ 55.078125 64.0625 55.078125 55.328125 \nQ 55.078125 49.078125 51.53125 44.71875 \nQ 48 40.375 41.703125 38.8125 \nQ 48.828125 37.15625 52.796875 32.3125 \nQ 56.78125 27.484375 56.78125 20.515625 \nQ 56.78125 9.90625 50.3125 4.234375 \nQ 43.84375 -1.421875 31.78125 -1.421875 \nQ 19.734375 -1.421875 13.25 4.234375 \nQ 6.78125 9.90625 6.78125 20.515625 \nQ 6.78125 27.484375 10.78125 32.3125 \nQ 14.796875 37.15625 21.921875 38.8125 \nz\nM 18.3125 54.390625 \nQ 18.3125 48.734375 21.84375 45.5625 \nQ 25.390625 42.390625 31.78125 42.390625 \nQ 38.140625 42.390625 41.71875 45.5625 \nQ 45.3125 48.734375 45.3125 54.390625 \nQ 45.3125 60.0625 41.71875 63.234375 \nQ 38.140625 66.40625 31.78125 66.40625 \nQ 25.390625 66.40625 21.84375 63.234375 \nQ 18.3125 60.0625 18.3125 54.390625 \nz\n\" id=\"DejaVuSans-56\"/>\n       </defs>\n       <use xlink:href=\"#DejaVuSans-56\"/>\n       <use x=\"63.623047\" xlink:href=\"#DejaVuSans-48\"/>\n       <use x=\"127.246094\" xlink:href=\"#DejaVuSans-48\"/>\n       <use x=\"190.869141\" xlink:href=\"#DejaVuSans-48\"/>\n      </g>\n     </g>\n    </g>\n    <g id=\"xtick_6\">\n     <g id=\"line2d_6\">\n      <g>\n       <use style=\"stroke:#000000;stroke-width:0.8;\" x=\"356.047443\" xlink:href=\"#m22ffe6dda0\" y=\"224.64\"/>\n      </g>\n     </g>\n     <g id=\"text_6\">\n      <!-- 10000 -->\n      <g transform=\"translate(340.141193 239.238437)scale(0.1 -0.1)\">\n       <defs>\n        <path d=\"M 12.40625 8.296875 \nL 28.515625 8.296875 \nL 28.515625 63.921875 \nL 10.984375 60.40625 \nL 10.984375 69.390625 \nL 28.421875 72.90625 \nL 38.28125 72.90625 \nL 38.28125 8.296875 \nL 54.390625 8.296875 \nL 54.390625 0 \nL 12.40625 0 \nz\n\" id=\"DejaVuSans-49\"/>\n       </defs>\n       <use xlink:href=\"#DejaVuSans-49\"/>\n       <use x=\"63.623047\" xlink:href=\"#DejaVuSans-48\"/>\n       <use x=\"127.246094\" xlink:href=\"#DejaVuSans-48\"/>\n       <use x=\"190.869141\" xlink:href=\"#DejaVuSans-48\"/>\n       <use x=\"254.492188\" xlink:href=\"#DejaVuSans-48\"/>\n      </g>\n     </g>\n    </g>\n   </g>\n   <g id=\"matplotlib.axis_2\">\n    <g id=\"ytick_1\">\n     <g id=\"line2d_7\">\n      <defs>\n       <path d=\"M 0 0 \nL -3.5 0 \n\" id=\"m3a836e9ea7\" style=\"stroke:#000000;stroke-width:0.8;\"/>\n      </defs>\n      <g>\n       <use style=\"stroke:#000000;stroke-width:0.8;\" x=\"36.465625\" xlink:href=\"#m3a836e9ea7\" y=\"216.601625\"/>\n      </g>\n     </g>\n     <g id=\"text_7\">\n      <!-- 0.00 -->\n      <g transform=\"translate(7.2 220.400843)scale(0.1 -0.1)\">\n       <defs>\n        <path d=\"M 10.6875 12.40625 \nL 21 12.40625 \nL 21 0 \nL 10.6875 0 \nz\n\" id=\"DejaVuSans-46\"/>\n       </defs>\n       <use xlink:href=\"#DejaVuSans-48\"/>\n       <use x=\"63.623047\" xlink:href=\"#DejaVuSans-46\"/>\n       <use x=\"95.410156\" xlink:href=\"#DejaVuSans-48\"/>\n       <use x=\"159.033203\" xlink:href=\"#DejaVuSans-48\"/>\n      </g>\n     </g>\n    </g>\n    <g id=\"ytick_2\">\n     <g id=\"line2d_8\">\n      <g>\n       <use style=\"stroke:#000000;stroke-width:0.8;\" x=\"36.465625\" xlink:href=\"#m3a836e9ea7\" y=\"173.039994\"/>\n      </g>\n     </g>\n     <g id=\"text_8\">\n      <!-- 0.05 -->\n      <g transform=\"translate(7.2 176.839213)scale(0.1 -0.1)\">\n       <defs>\n        <path d=\"M 10.796875 72.90625 \nL 49.515625 72.90625 \nL 49.515625 64.59375 \nL 19.828125 64.59375 \nL 19.828125 46.734375 \nQ 21.96875 47.46875 24.109375 47.828125 \nQ 26.265625 48.1875 28.421875 48.1875 \nQ 40.625 48.1875 47.75 41.5 \nQ 54.890625 34.8125 54.890625 23.390625 \nQ 54.890625 11.625 47.5625 5.09375 \nQ 40.234375 -1.421875 26.90625 -1.421875 \nQ 22.3125 -1.421875 17.546875 -0.640625 \nQ 12.796875 0.140625 7.71875 1.703125 \nL 7.71875 11.625 \nQ 12.109375 9.234375 16.796875 8.0625 \nQ 21.484375 6.890625 26.703125 6.890625 \nQ 35.15625 6.890625 40.078125 11.328125 \nQ 45.015625 15.765625 45.015625 23.390625 \nQ 45.015625 31 40.078125 35.4375 \nQ 35.15625 39.890625 26.703125 39.890625 \nQ 22.75 39.890625 18.8125 39.015625 \nQ 14.890625 38.140625 10.796875 36.28125 \nz\n\" id=\"DejaVuSans-53\"/>\n       </defs>\n       <use xlink:href=\"#DejaVuSans-48\"/>\n       <use x=\"63.623047\" xlink:href=\"#DejaVuSans-46\"/>\n       <use x=\"95.410156\" xlink:href=\"#DejaVuSans-48\"/>\n       <use x=\"159.033203\" xlink:href=\"#DejaVuSans-53\"/>\n      </g>\n     </g>\n    </g>\n    <g id=\"ytick_3\">\n     <g id=\"line2d_9\">\n      <g>\n       <use style=\"stroke:#000000;stroke-width:0.8;\" x=\"36.465625\" xlink:href=\"#m3a836e9ea7\" y=\"129.478364\"/>\n      </g>\n     </g>\n     <g id=\"text_9\">\n      <!-- 0.10 -->\n      <g transform=\"translate(7.2 133.277582)scale(0.1 -0.1)\">\n       <use xlink:href=\"#DejaVuSans-48\"/>\n       <use x=\"63.623047\" xlink:href=\"#DejaVuSans-46\"/>\n       <use x=\"95.410156\" xlink:href=\"#DejaVuSans-49\"/>\n       <use x=\"159.033203\" xlink:href=\"#DejaVuSans-48\"/>\n      </g>\n     </g>\n    </g>\n    <g id=\"ytick_4\">\n     <g id=\"line2d_10\">\n      <g>\n       <use style=\"stroke:#000000;stroke-width:0.8;\" x=\"36.465625\" xlink:href=\"#m3a836e9ea7\" y=\"85.916733\"/>\n      </g>\n     </g>\n     <g id=\"text_10\">\n      <!-- 0.15 -->\n      <g transform=\"translate(7.2 89.715952)scale(0.1 -0.1)\">\n       <use xlink:href=\"#DejaVuSans-48\"/>\n       <use x=\"63.623047\" xlink:href=\"#DejaVuSans-46\"/>\n       <use x=\"95.410156\" xlink:href=\"#DejaVuSans-49\"/>\n       <use x=\"159.033203\" xlink:href=\"#DejaVuSans-53\"/>\n      </g>\n     </g>\n    </g>\n    <g id=\"ytick_5\">\n     <g id=\"line2d_11\">\n      <g>\n       <use style=\"stroke:#000000;stroke-width:0.8;\" x=\"36.465625\" xlink:href=\"#m3a836e9ea7\" y=\"42.355103\"/>\n      </g>\n     </g>\n     <g id=\"text_11\">\n      <!-- 0.20 -->\n      <g transform=\"translate(7.2 46.154321)scale(0.1 -0.1)\">\n       <use xlink:href=\"#DejaVuSans-48\"/>\n       <use x=\"63.623047\" xlink:href=\"#DejaVuSans-46\"/>\n       <use x=\"95.410156\" xlink:href=\"#DejaVuSans-50\"/>\n       <use x=\"159.033203\" xlink:href=\"#DejaVuSans-48\"/>\n      </g>\n     </g>\n    </g>\n   </g>\n   <g id=\"line2d_12\">\n    <defs>\n     <path d=\"M -3 0 \nL 3 0 \nM 0 3 \nL 0 -3 \n\" id=\"mdebc50b1fe\" style=\"stroke:#ff0000;\"/>\n    </defs>\n    <g clip-path=\"url(#p3dd918f903)\">\n     <use style=\"fill:#ff0000;stroke:#ff0000;\" x=\"51.683807\" xlink:href=\"#mdebc50b1fe\" y=\"214.756364\"/>\n     <use style=\"fill:#ff0000;stroke:#ff0000;\" x=\"57.894055\" xlink:href=\"#mdebc50b1fe\" y=\"211.75706\"/>\n     <use style=\"fill:#ff0000;stroke:#ff0000;\" x=\"64.104303\" xlink:href=\"#mdebc50b1fe\" y=\"209.875748\"/>\n     <use style=\"fill:#ff0000;stroke:#ff0000;\" x=\"70.314551\" xlink:href=\"#mdebc50b1fe\" y=\"206.094823\"/>\n     <use style=\"fill:#ff0000;stroke:#ff0000;\" x=\"76.524799\" xlink:href=\"#mdebc50b1fe\" y=\"202.974722\"/>\n     <use style=\"fill:#ff0000;stroke:#ff0000;\" x=\"82.735046\" xlink:href=\"#mdebc50b1fe\" y=\"199.596104\"/>\n     <use style=\"fill:#ff0000;stroke:#ff0000;\" x=\"88.945294\" xlink:href=\"#mdebc50b1fe\" y=\"196.002246\"/>\n     <use style=\"fill:#ff0000;stroke:#ff0000;\" x=\"95.155542\" xlink:href=\"#mdebc50b1fe\" y=\"193.438487\"/>\n     <use style=\"fill:#ff0000;stroke:#ff0000;\" x=\"101.36579\" xlink:href=\"#mdebc50b1fe\" y=\"189.438554\"/>\n     <use style=\"fill:#ff0000;stroke:#ff0000;\" x=\"107.576038\" xlink:href=\"#mdebc50b1fe\" y=\"179.245372\"/>\n     <use style=\"fill:#ff0000;stroke:#ff0000;\" x=\"113.786286\" xlink:href=\"#mdebc50b1fe\" y=\"182.300966\"/>\n     <use style=\"fill:#ff0000;stroke:#ff0000;\" x=\"119.996534\" xlink:href=\"#mdebc50b1fe\" y=\"177.129457\"/>\n     <use style=\"fill:#ff0000;stroke:#ff0000;\" x=\"126.206782\" xlink:href=\"#mdebc50b1fe\" y=\"172.909985\"/>\n     <use style=\"fill:#ff0000;stroke:#ff0000;\" x=\"132.41703\" xlink:href=\"#mdebc50b1fe\" y=\"170.54599\"/>\n     <use style=\"fill:#ff0000;stroke:#ff0000;\" x=\"138.627278\" xlink:href=\"#mdebc50b1fe\" y=\"165.350377\"/>\n     <use style=\"fill:#ff0000;stroke:#ff0000;\" x=\"144.837526\" xlink:href=\"#mdebc50b1fe\" y=\"161.657112\"/>\n     <use style=\"fill:#ff0000;stroke:#ff0000;\" x=\"151.047774\" xlink:href=\"#mdebc50b1fe\" y=\"158.279119\"/>\n     <use style=\"fill:#ff0000;stroke:#ff0000;\" x=\"157.258022\" xlink:href=\"#mdebc50b1fe\" y=\"145.093366\"/>\n     <use style=\"fill:#ff0000;stroke:#ff0000;\" x=\"163.46827\" xlink:href=\"#mdebc50b1fe\" y=\"133.163348\"/>\n     <use style=\"fill:#ff0000;stroke:#ff0000;\" x=\"169.678518\" xlink:href=\"#mdebc50b1fe\" y=\"121.382318\"/>\n     <use style=\"fill:#ff0000;stroke:#ff0000;\" x=\"175.888765\" xlink:href=\"#mdebc50b1fe\" y=\"136.325451\"/>\n     <use style=\"fill:#ff0000;stroke:#ff0000;\" x=\"182.099013\" xlink:href=\"#mdebc50b1fe\" y=\"127.931065\"/>\n     <use style=\"fill:#ff0000;stroke:#ff0000;\" x=\"188.309261\" xlink:href=\"#mdebc50b1fe\" y=\"117.311964\"/>\n     <use style=\"fill:#ff0000;stroke:#ff0000;\" x=\"194.519509\" xlink:href=\"#mdebc50b1fe\" y=\"117.613166\"/>\n     <use style=\"fill:#ff0000;stroke:#ff0000;\" x=\"200.729757\" xlink:href=\"#mdebc50b1fe\" y=\"122.565711\"/>\n     <use style=\"fill:#ff0000;stroke:#ff0000;\" x=\"206.970749\" xlink:href=\"#mdebc50b1fe\" y=\"107.40718\"/>\n     <use style=\"fill:#ff0000;stroke:#ff0000;\" x=\"213.180997\" xlink:href=\"#mdebc50b1fe\" y=\"107.223251\"/>\n     <use style=\"fill:#ff0000;stroke:#ff0000;\" x=\"219.391245\" xlink:href=\"#mdebc50b1fe\" y=\"107.9897\"/>\n     <use style=\"fill:#ff0000;stroke:#ff0000;\" x=\"225.601493\" xlink:href=\"#mdebc50b1fe\" y=\"91.57932\"/>\n     <use style=\"fill:#ff0000;stroke:#ff0000;\" x=\"231.811741\" xlink:href=\"#mdebc50b1fe\" y=\"97.705991\"/>\n     <use style=\"fill:#ff0000;stroke:#ff0000;\" x=\"238.021989\" xlink:href=\"#mdebc50b1fe\" y=\"95.622877\"/>\n     <use style=\"fill:#ff0000;stroke:#ff0000;\" x=\"244.232237\" xlink:href=\"#mdebc50b1fe\" y=\"93.545086\"/>\n     <use style=\"fill:#ff0000;stroke:#ff0000;\" x=\"250.442485\" xlink:href=\"#mdebc50b1fe\" y=\"90.228527\"/>\n     <use style=\"fill:#ff0000;stroke:#ff0000;\" x=\"256.652732\" xlink:href=\"#mdebc50b1fe\" y=\"83.401607\"/>\n     <use style=\"fill:#ff0000;stroke:#ff0000;\" x=\"262.86298\" xlink:href=\"#mdebc50b1fe\" y=\"78.311601\"/>\n     <use style=\"fill:#ff0000;stroke:#ff0000;\" x=\"269.073228\" xlink:href=\"#mdebc50b1fe\" y=\"65.321771\"/>\n     <use style=\"fill:#ff0000;stroke:#ff0000;\" x=\"275.283476\" xlink:href=\"#mdebc50b1fe\" y=\"66.314066\"/>\n     <use style=\"fill:#ff0000;stroke:#ff0000;\" x=\"281.493724\" xlink:href=\"#mdebc50b1fe\" y=\"70.276411\"/>\n     <use style=\"fill:#ff0000;stroke:#ff0000;\" x=\"287.703972\" xlink:href=\"#mdebc50b1fe\" y=\"61.651888\"/>\n     <use style=\"fill:#ff0000;stroke:#ff0000;\" x=\"293.91422\" xlink:href=\"#mdebc50b1fe\" y=\"59.813386\"/>\n     <use style=\"fill:#ff0000;stroke:#ff0000;\" x=\"300.124468\" xlink:href=\"#mdebc50b1fe\" y=\"56.876883\"/>\n     <use style=\"fill:#ff0000;stroke:#ff0000;\" x=\"306.334716\" xlink:href=\"#mdebc50b1fe\" y=\"51.330245\"/>\n     <use style=\"fill:#ff0000;stroke:#ff0000;\" x=\"312.544964\" xlink:href=\"#mdebc50b1fe\" y=\"45.089007\"/>\n     <use style=\"fill:#ff0000;stroke:#ff0000;\" x=\"318.755212\" xlink:href=\"#mdebc50b1fe\" y=\"39.343682\"/>\n     <use style=\"fill:#ff0000;stroke:#ff0000;\" x=\"324.96546\" xlink:href=\"#mdebc50b1fe\" y=\"40.671048\"/>\n     <use style=\"fill:#ff0000;stroke:#ff0000;\" x=\"331.175708\" xlink:href=\"#mdebc50b1fe\" y=\"29.787914\"/>\n     <use style=\"fill:#ff0000;stroke:#ff0000;\" x=\"337.385956\" xlink:href=\"#mdebc50b1fe\" y=\"18.672308\"/>\n     <use style=\"fill:#ff0000;stroke:#ff0000;\" x=\"343.596204\" xlink:href=\"#mdebc50b1fe\" y=\"25.413553\"/>\n     <use style=\"fill:#ff0000;stroke:#ff0000;\" x=\"349.806451\" xlink:href=\"#mdebc50b1fe\" y=\"19.368962\"/>\n     <use style=\"fill:#ff0000;stroke:#ff0000;\" x=\"356.047443\" xlink:href=\"#mdebc50b1fe\" y=\"17.083636\"/>\n    </g>\n   </g>\n   <g id=\"patch_3\">\n    <path d=\"M 36.465625 224.64 \nL 36.465625 7.2 \n\" style=\"fill:none;stroke:#000000;stroke-linecap:square;stroke-linejoin:miter;stroke-width:0.8;\"/>\n   </g>\n   <g id=\"patch_4\">\n    <path d=\"M 371.265625 224.64 \nL 371.265625 7.2 \n\" style=\"fill:none;stroke:#000000;stroke-linecap:square;stroke-linejoin:miter;stroke-width:0.8;\"/>\n   </g>\n   <g id=\"patch_5\">\n    <path d=\"M 36.465625 224.64 \nL 371.265625 224.64 \n\" style=\"fill:none;stroke:#000000;stroke-linecap:square;stroke-linejoin:miter;stroke-width:0.8;\"/>\n   </g>\n   <g id=\"patch_6\">\n    <path d=\"M 36.465625 7.2 \nL 371.265625 7.2 \n\" style=\"fill:none;stroke:#000000;stroke-linecap:square;stroke-linejoin:miter;stroke-width:0.8;\"/>\n   </g>\n  </g>\n </g>\n <defs>\n  <clipPath id=\"p3dd918f903\">\n   <rect height=\"217.44\" width=\"334.8\" x=\"36.465625\" y=\"7.2\"/>\n  </clipPath>\n </defs>\n</svg>\n",
      "image/png": "[encoded data removed]"
     },
     "metadata": {
      "needs_background": "light"
     }
    }
   ],
   "source": [
    "%matplotlib inline\n",
    "import matplotlib.pyplot as plt\n",
    "import numpy as np\n",
    "\n",
    "ns = np.linspace(100, 10000, 50, dtype=np.int_)\n",
    "plt.plot(ns, [time_heapsort(n) for n in ns], 'r+')\n",
    "plt.show()"
   ]
  },
  {
   "cell_type": "code",
   "execution_count": 15,
   "metadata": {
    "collapsed": false
   },
   "outputs": [
    {
     "output_type": "display_data",
     "data": {
      "text/plain": "<Figure size 432x288 with 1 Axes>",
      "image/svg+xml": "<?xml version=\"1.0\" encoding=\"utf-8\" standalone=\"no\"?>\n<!DOCTYPE svg PUBLIC \"-//W3C//DTD SVG 1.1//EN\"\n  \"http://www.w3.org/Graphics/SVG/1.1/DTD/svg11.dtd\">\n<!-- Created with matplotlib (https://matplotlib.org/) -->\n<svg height=\"251.830954pt\" version=\"1.1\" viewBox=\"0 0 379.153693 251.830954\" width=\"379.153693pt\" xmlns=\"http://www.w3.org/2000/svg\" xmlns:xlink=\"http://www.w3.org/1999/xlink\">\n <metadata>\n  <rdf:RDF xmlns:cc=\"http://creativecommons.org/ns#\" xmlns:dc=\"http://purl.org/dc/elements/1.1/\" xmlns:rdf=\"http://www.w3.org/1999/02/22-rdf-syntax-ns#\">\n   <cc:Work>\n    <dc:type rdf:resource=\"http://purl.org/dc/dcmitype/StillImage\"/>\n    <dc:date>2021-04-14T18:14:41.149657</dc:date>\n    <dc:format>image/svg+xml</dc:format>\n    <dc:creator>\n     <cc:Agent>\n      <dc:title>Matplotlib v3.3.4, https://matplotlib.org/</dc:title>\n     </cc:Agent>\n    </dc:creator>\n   </cc:Work>\n  </rdf:RDF>\n </metadata>\n <defs>\n  <style type=\"text/css\">*{stroke-linecap:butt;stroke-linejoin:round;}</style>\n </defs>\n <g id=\"figure_1\">\n  <g id=\"patch_1\">\n   <path d=\"M 0 251.830954 \nL 379.153693 251.830954 \nL 379.153693 0 \nL 0 0 \nz\n\" style=\"fill:none;\"/>\n  </g>\n  <g id=\"axes_1\">\n   <g id=\"patch_2\">\n    <path d=\"M 36.465625 227.952829 \nL 371.265625 227.952829 \nL 371.265625 10.512829 \nL 36.465625 10.512829 \nz\n\" style=\"fill:#ffffff;\"/>\n   </g>\n   <g id=\"matplotlib.axis_1\">\n    <g id=\"xtick_1\">\n     <g id=\"line2d_1\">\n      <defs>\n       <path d=\"M 0 0 \nL 0 3.5 \n\" id=\"mb978b1eb0a\" style=\"stroke:#000000;stroke-width:0.8;\"/>\n      </defs>\n      <g>\n       <use style=\"stroke:#000000;stroke-width:0.8;\" x=\"48.609427\" xlink:href=\"#mb978b1eb0a\" y=\"227.952829\"/>\n      </g>\n     </g>\n     <g id=\"text_1\">\n      <!-- 0 -->\n      <g transform=\"translate(45.428177 242.551266)scale(0.1 -0.1)\">\n       <defs>\n        <path d=\"M 31.78125 66.40625 \nQ 24.171875 66.40625 20.328125 58.90625 \nQ 16.5 51.421875 16.5 36.375 \nQ 16.5 21.390625 20.328125 13.890625 \nQ 24.171875 6.390625 31.78125 6.390625 \nQ 39.453125 6.390625 43.28125 13.890625 \nQ 47.125 21.390625 47.125 36.375 \nQ 47.125 51.421875 43.28125 58.90625 \nQ 39.453125 66.40625 31.78125 66.40625 \nz\nM 31.78125 74.21875 \nQ 44.046875 74.21875 50.515625 64.515625 \nQ 56.984375 54.828125 56.984375 36.375 \nQ 56.984375 17.96875 50.515625 8.265625 \nQ 44.046875 -1.421875 31.78125 -1.421875 \nQ 19.53125 -1.421875 13.0625 8.265625 \nQ 6.59375 17.96875 6.59375 36.375 \nQ 6.59375 54.828125 13.0625 64.515625 \nQ 19.53125 74.21875 31.78125 74.21875 \nz\n\" id=\"DejaVuSans-48\"/>\n       </defs>\n       <use xlink:href=\"#DejaVuSans-48\"/>\n      </g>\n     </g>\n    </g>\n    <g id=\"xtick_2\">\n     <g id=\"line2d_2\">\n      <g>\n       <use style=\"stroke:#000000;stroke-width:0.8;\" x=\"110.09703\" xlink:href=\"#mb978b1eb0a\" y=\"227.952829\"/>\n      </g>\n     </g>\n     <g id=\"text_2\">\n      <!-- 2000 -->\n      <g transform=\"translate(97.37203 242.551266)scale(0.1 -0.1)\">\n       <defs>\n        <path d=\"M 19.1875 8.296875 \nL 53.609375 8.296875 \nL 53.609375 0 \nL 7.328125 0 \nL 7.328125 8.296875 \nQ 12.9375 14.109375 22.625 23.890625 \nQ 32.328125 33.6875 34.8125 36.53125 \nQ 39.546875 41.84375 41.421875 45.53125 \nQ 43.3125 49.21875 43.3125 52.78125 \nQ 43.3125 58.59375 39.234375 62.25 \nQ 35.15625 65.921875 28.609375 65.921875 \nQ 23.96875 65.921875 18.8125 64.3125 \nQ 13.671875 62.703125 7.8125 59.421875 \nL 7.8125 69.390625 \nQ 13.765625 71.78125 18.9375 73 \nQ 24.125 74.21875 28.421875 74.21875 \nQ 39.75 74.21875 46.484375 68.546875 \nQ 53.21875 62.890625 53.21875 53.421875 \nQ 53.21875 48.921875 51.53125 44.890625 \nQ 49.859375 40.875 45.40625 35.40625 \nQ 44.1875 33.984375 37.640625 27.21875 \nQ 31.109375 20.453125 19.1875 8.296875 \nz\n\" id=\"DejaVuSans-50\"/>\n       </defs>\n       <use xlink:href=\"#DejaVuSans-50\"/>\n       <use x=\"63.623047\" xlink:href=\"#DejaVuSans-48\"/>\n       <use x=\"127.246094\" xlink:href=\"#DejaVuSans-48\"/>\n       <use x=\"190.869141\" xlink:href=\"#DejaVuSans-48\"/>\n      </g>\n     </g>\n    </g>\n    <g id=\"xtick_3\">\n     <g id=\"line2d_3\">\n      <g>\n       <use style=\"stroke:#000000;stroke-width:0.8;\" x=\"171.584633\" xlink:href=\"#mb978b1eb0a\" y=\"227.952829\"/>\n      </g>\n     </g>\n     <g id=\"text_3\">\n      <!-- 4000 -->\n      <g transform=\"translate(158.859633 242.551266)scale(0.1 -0.1)\">\n       <defs>\n        <path d=\"M 37.796875 64.3125 \nL 12.890625 25.390625 \nL 37.796875 25.390625 \nz\nM 35.203125 72.90625 \nL 47.609375 72.90625 \nL 47.609375 25.390625 \nL 58.015625 25.390625 \nL 58.015625 17.1875 \nL 47.609375 17.1875 \nL 47.609375 0 \nL 37.796875 0 \nL 37.796875 17.1875 \nL 4.890625 17.1875 \nL 4.890625 26.703125 \nz\n\" id=\"DejaVuSans-52\"/>\n       </defs>\n       <use xlink:href=\"#DejaVuSans-52\"/>\n       <use x=\"63.623047\" xlink:href=\"#DejaVuSans-48\"/>\n       <use x=\"127.246094\" xlink:href=\"#DejaVuSans-48\"/>\n       <use x=\"190.869141\" xlink:href=\"#DejaVuSans-48\"/>\n      </g>\n     </g>\n    </g>\n    <g id=\"xtick_4\">\n     <g id=\"line2d_4\">\n      <g>\n       <use style=\"stroke:#000000;stroke-width:0.8;\" x=\"233.072237\" xlink:href=\"#mb978b1eb0a\" y=\"227.952829\"/>\n      </g>\n     </g>\n     <g id=\"text_4\">\n      <!-- 6000 -->\n      <g transform=\"translate(220.347237 242.551266)scale(0.1 -0.1)\">\n       <defs>\n        <path d=\"M 33.015625 40.375 \nQ 26.375 40.375 22.484375 35.828125 \nQ 18.609375 31.296875 18.609375 23.390625 \nQ 18.609375 15.53125 22.484375 10.953125 \nQ 26.375 6.390625 33.015625 6.390625 \nQ 39.65625 6.390625 43.53125 10.953125 \nQ 47.40625 15.53125 47.40625 23.390625 \nQ 47.40625 31.296875 43.53125 35.828125 \nQ 39.65625 40.375 33.015625 40.375 \nz\nM 52.59375 71.296875 \nL 52.59375 62.3125 \nQ 48.875 64.0625 45.09375 64.984375 \nQ 41.3125 65.921875 37.59375 65.921875 \nQ 27.828125 65.921875 22.671875 59.328125 \nQ 17.53125 52.734375 16.796875 39.40625 \nQ 19.671875 43.65625 24.015625 45.921875 \nQ 28.375 48.1875 33.59375 48.1875 \nQ 44.578125 48.1875 50.953125 41.515625 \nQ 57.328125 34.859375 57.328125 23.390625 \nQ 57.328125 12.15625 50.6875 5.359375 \nQ 44.046875 -1.421875 33.015625 -1.421875 \nQ 20.359375 -1.421875 13.671875 8.265625 \nQ 6.984375 17.96875 6.984375 36.375 \nQ 6.984375 53.65625 15.1875 63.9375 \nQ 23.390625 74.21875 37.203125 74.21875 \nQ 40.921875 74.21875 44.703125 73.484375 \nQ 48.484375 72.75 52.59375 71.296875 \nz\n\" id=\"DejaVuSans-54\"/>\n       </defs>\n       <use xlink:href=\"#DejaVuSans-54\"/>\n       <use x=\"63.623047\" xlink:href=\"#DejaVuSans-48\"/>\n       <use x=\"127.246094\" xlink:href=\"#DejaVuSans-48\"/>\n       <use x=\"190.869141\" xlink:href=\"#DejaVuSans-48\"/>\n      </g>\n     </g>\n    </g>\n    <g id=\"xtick_5\">\n     <g id=\"line2d_5\">\n      <g>\n       <use style=\"stroke:#000000;stroke-width:0.8;\" x=\"294.55984\" xlink:href=\"#mb978b1eb0a\" y=\"227.952829\"/>\n      </g>\n     </g>\n     <g id=\"text_5\">\n      <!-- 8000 -->\n      <g transform=\"translate(281.83484 242.551266)scale(0.1 -0.1)\">\n       <defs>\n        <path d=\"M 31.78125 34.625 \nQ 24.75 34.625 20.71875 30.859375 \nQ 16.703125 27.09375 16.703125 20.515625 \nQ 16.703125 13.921875 20.71875 10.15625 \nQ 24.75 6.390625 31.78125 6.390625 \nQ 38.8125 6.390625 42.859375 10.171875 \nQ 46.921875 13.96875 46.921875 20.515625 \nQ 46.921875 27.09375 42.890625 30.859375 \nQ 38.875 34.625 31.78125 34.625 \nz\nM 21.921875 38.8125 \nQ 15.578125 40.375 12.03125 44.71875 \nQ 8.5 49.078125 8.5 55.328125 \nQ 8.5 64.0625 14.71875 69.140625 \nQ 20.953125 74.21875 31.78125 74.21875 \nQ 42.671875 74.21875 48.875 69.140625 \nQ 55.078125 64.0625 55.078125 55.328125 \nQ 55.078125 49.078125 51.53125 44.71875 \nQ 48 40.375 41.703125 38.8125 \nQ 48.828125 37.15625 52.796875 32.3125 \nQ 56.78125 27.484375 56.78125 20.515625 \nQ 56.78125 9.90625 50.3125 4.234375 \nQ 43.84375 -1.421875 31.78125 -1.421875 \nQ 19.734375 -1.421875 13.25 4.234375 \nQ 6.78125 9.90625 6.78125 20.515625 \nQ 6.78125 27.484375 10.78125 32.3125 \nQ 14.796875 37.15625 21.921875 38.8125 \nz\nM 18.3125 54.390625 \nQ 18.3125 48.734375 21.84375 45.5625 \nQ 25.390625 42.390625 31.78125 42.390625 \nQ 38.140625 42.390625 41.71875 45.5625 \nQ 45.3125 48.734375 45.3125 54.390625 \nQ 45.3125 60.0625 41.71875 63.234375 \nQ 38.140625 66.40625 31.78125 66.40625 \nQ 25.390625 66.40625 21.84375 63.234375 \nQ 18.3125 60.0625 18.3125 54.390625 \nz\n\" id=\"DejaVuSans-56\"/>\n       </defs>\n       <use xlink:href=\"#DejaVuSans-56\"/>\n       <use x=\"63.623047\" xlink:href=\"#DejaVuSans-48\"/>\n       <use x=\"127.246094\" xlink:href=\"#DejaVuSans-48\"/>\n       <use x=\"190.869141\" xlink:href=\"#DejaVuSans-48\"/>\n      </g>\n     </g>\n    </g>\n    <g id=\"xtick_6\">\n     <g id=\"line2d_6\">\n      <g>\n       <use style=\"stroke:#000000;stroke-width:0.8;\" x=\"356.047443\" xlink:href=\"#mb978b1eb0a\" y=\"227.952829\"/>\n      </g>\n     </g>\n     <g id=\"text_6\">\n      <!-- 10000 -->\n      <g transform=\"translate(340.141193 242.551266)scale(0.1 -0.1)\">\n       <defs>\n        <path d=\"M 12.40625 8.296875 \nL 28.515625 8.296875 \nL 28.515625 63.921875 \nL 10.984375 60.40625 \nL 10.984375 69.390625 \nL 28.421875 72.90625 \nL 38.28125 72.90625 \nL 38.28125 8.296875 \nL 54.390625 8.296875 \nL 54.390625 0 \nL 12.40625 0 \nz\n\" id=\"DejaVuSans-49\"/>\n       </defs>\n       <use xlink:href=\"#DejaVuSans-49\"/>\n       <use x=\"63.623047\" xlink:href=\"#DejaVuSans-48\"/>\n       <use x=\"127.246094\" xlink:href=\"#DejaVuSans-48\"/>\n       <use x=\"190.869141\" xlink:href=\"#DejaVuSans-48\"/>\n       <use x=\"254.492188\" xlink:href=\"#DejaVuSans-48\"/>\n      </g>\n     </g>\n    </g>\n   </g>\n   <g id=\"matplotlib.axis_2\">\n    <g id=\"ytick_1\">\n     <g id=\"line2d_7\">\n      <defs>\n       <path d=\"M 0 0 \nL -3.5 0 \n\" id=\"mffe52baf6a\" style=\"stroke:#000000;stroke-width:0.8;\"/>\n      </defs>\n      <g>\n       <use style=\"stroke:#000000;stroke-width:0.8;\" x=\"36.465625\" xlink:href=\"#mffe52baf6a\" y=\"218.620956\"/>\n      </g>\n     </g>\n     <g id=\"text_7\">\n      <!-- 0.00 -->\n      <g transform=\"translate(7.2 222.420175)scale(0.1 -0.1)\">\n       <defs>\n        <path d=\"M 10.6875 12.40625 \nL 21 12.40625 \nL 21 0 \nL 10.6875 0 \nz\n\" id=\"DejaVuSans-46\"/>\n       </defs>\n       <use xlink:href=\"#DejaVuSans-48\"/>\n       <use x=\"63.623047\" xlink:href=\"#DejaVuSans-46\"/>\n       <use x=\"95.410156\" xlink:href=\"#DejaVuSans-48\"/>\n       <use x=\"159.033203\" xlink:href=\"#DejaVuSans-48\"/>\n      </g>\n     </g>\n    </g>\n    <g id=\"ytick_2\">\n     <g id=\"line2d_8\">\n      <g>\n       <use style=\"stroke:#000000;stroke-width:0.8;\" x=\"36.465625\" xlink:href=\"#mffe52baf6a\" y=\"177.096609\"/>\n      </g>\n     </g>\n     <g id=\"text_8\">\n      <!-- 0.05 -->\n      <g transform=\"translate(7.2 180.895827)scale(0.1 -0.1)\">\n       <defs>\n        <path d=\"M 10.796875 72.90625 \nL 49.515625 72.90625 \nL 49.515625 64.59375 \nL 19.828125 64.59375 \nL 19.828125 46.734375 \nQ 21.96875 47.46875 24.109375 47.828125 \nQ 26.265625 48.1875 28.421875 48.1875 \nQ 40.625 48.1875 47.75 41.5 \nQ 54.890625 34.8125 54.890625 23.390625 \nQ 54.890625 11.625 47.5625 5.09375 \nQ 40.234375 -1.421875 26.90625 -1.421875 \nQ 22.3125 -1.421875 17.546875 -0.640625 \nQ 12.796875 0.140625 7.71875 1.703125 \nL 7.71875 11.625 \nQ 12.109375 9.234375 16.796875 8.0625 \nQ 21.484375 6.890625 26.703125 6.890625 \nQ 35.15625 6.890625 40.078125 11.328125 \nQ 45.015625 15.765625 45.015625 23.390625 \nQ 45.015625 31 40.078125 35.4375 \nQ 35.15625 39.890625 26.703125 39.890625 \nQ 22.75 39.890625 18.8125 39.015625 \nQ 14.890625 38.140625 10.796875 36.28125 \nz\n\" id=\"DejaVuSans-53\"/>\n       </defs>\n       <use xlink:href=\"#DejaVuSans-48\"/>\n       <use x=\"63.623047\" xlink:href=\"#DejaVuSans-46\"/>\n       <use x=\"95.410156\" xlink:href=\"#DejaVuSans-48\"/>\n       <use x=\"159.033203\" xlink:href=\"#DejaVuSans-53\"/>\n      </g>\n     </g>\n    </g>\n    <g id=\"ytick_3\">\n     <g id=\"line2d_9\">\n      <g>\n       <use style=\"stroke:#000000;stroke-width:0.8;\" x=\"36.465625\" xlink:href=\"#mffe52baf6a\" y=\"135.572261\"/>\n      </g>\n     </g>\n     <g id=\"text_9\">\n      <!-- 0.10 -->\n      <g transform=\"translate(7.2 139.37148)scale(0.1 -0.1)\">\n       <use xlink:href=\"#DejaVuSans-48\"/>\n       <use x=\"63.623047\" xlink:href=\"#DejaVuSans-46\"/>\n       <use x=\"95.410156\" xlink:href=\"#DejaVuSans-49\"/>\n       <use x=\"159.033203\" xlink:href=\"#DejaVuSans-48\"/>\n      </g>\n     </g>\n    </g>\n    <g id=\"ytick_4\">\n     <g id=\"line2d_10\">\n      <g>\n       <use style=\"stroke:#000000;stroke-width:0.8;\" x=\"36.465625\" xlink:href=\"#mffe52baf6a\" y=\"94.047914\"/>\n      </g>\n     </g>\n     <g id=\"text_10\">\n      <!-- 0.15 -->\n      <g transform=\"translate(7.2 97.847132)scale(0.1 -0.1)\">\n       <use xlink:href=\"#DejaVuSans-48\"/>\n       <use x=\"63.623047\" xlink:href=\"#DejaVuSans-46\"/>\n       <use x=\"95.410156\" xlink:href=\"#DejaVuSans-49\"/>\n       <use x=\"159.033203\" xlink:href=\"#DejaVuSans-53\"/>\n      </g>\n     </g>\n    </g>\n    <g id=\"ytick_5\">\n     <g id=\"line2d_11\">\n      <g>\n       <use style=\"stroke:#000000;stroke-width:0.8;\" x=\"36.465625\" xlink:href=\"#mffe52baf6a\" y=\"52.523566\"/>\n      </g>\n     </g>\n     <g id=\"text_11\">\n      <!-- 0.20 -->\n      <g transform=\"translate(7.2 56.322785)scale(0.1 -0.1)\">\n       <use xlink:href=\"#DejaVuSans-48\"/>\n       <use x=\"63.623047\" xlink:href=\"#DejaVuSans-46\"/>\n       <use x=\"95.410156\" xlink:href=\"#DejaVuSans-50\"/>\n       <use x=\"159.033203\" xlink:href=\"#DejaVuSans-48\"/>\n      </g>\n     </g>\n    </g>\n    <g id=\"ytick_6\">\n     <g id=\"line2d_12\">\n      <g>\n       <use style=\"stroke:#000000;stroke-width:0.8;\" x=\"36.465625\" xlink:href=\"#mffe52baf6a\" y=\"10.999219\"/>\n      </g>\n     </g>\n     <g id=\"text_12\">\n      <!-- 0.25 -->\n      <g transform=\"translate(7.2 14.798437)scale(0.1 -0.1)\">\n       <use xlink:href=\"#DejaVuSans-48\"/>\n       <use x=\"63.623047\" xlink:href=\"#DejaVuSans-46\"/>\n       <use x=\"95.410156\" xlink:href=\"#DejaVuSans-50\"/>\n       <use x=\"159.033203\" xlink:href=\"#DejaVuSans-53\"/>\n      </g>\n     </g>\n    </g>\n   </g>\n   <g id=\"line2d_13\">\n    <defs>\n     <path d=\"M -3 0 \nL 3 0 \nM 0 3 \nL 0 -3 \n\" id=\"m2447fb35ae\" style=\"stroke:#ff0000;\"/>\n    </defs>\n    <g clip-path=\"url(#pdab59cb226)\">\n     <use style=\"fill:#ff0000;stroke:#ff0000;\" x=\"51.683807\" xlink:href=\"#m2447fb35ae\" y=\"216.006138\"/>\n     <use style=\"fill:#ff0000;stroke:#ff0000;\" x=\"57.894055\" xlink:href=\"#m2447fb35ae\" y=\"208.448513\"/>\n     <use style=\"fill:#ff0000;stroke:#ff0000;\" x=\"64.104303\" xlink:href=\"#m2447fb35ae\" y=\"206.45575\"/>\n     <use style=\"fill:#ff0000;stroke:#ff0000;\" x=\"70.314551\" xlink:href=\"#m2447fb35ae\" y=\"200.521065\"/>\n     <use style=\"fill:#ff0000;stroke:#ff0000;\" x=\"76.524799\" xlink:href=\"#m2447fb35ae\" y=\"190.401972\"/>\n     <use style=\"fill:#ff0000;stroke:#ff0000;\" x=\"82.735046\" xlink:href=\"#m2447fb35ae\" y=\"178.041885\"/>\n     <use style=\"fill:#ff0000;stroke:#ff0000;\" x=\"88.945294\" xlink:href=\"#m2447fb35ae\" y=\"187.447495\"/>\n     <use style=\"fill:#ff0000;stroke:#ff0000;\" x=\"95.155542\" xlink:href=\"#m2447fb35ae\" y=\"181.812166\"/>\n     <use style=\"fill:#ff0000;stroke:#ff0000;\" x=\"101.36579\" xlink:href=\"#m2447fb35ae\" y=\"179.775079\"/>\n     <use style=\"fill:#ff0000;stroke:#ff0000;\" x=\"107.576038\" xlink:href=\"#m2447fb35ae\" y=\"187.893833\"/>\n     <use style=\"fill:#ff0000;stroke:#ff0000;\" x=\"113.786286\" xlink:href=\"#m2447fb35ae\" y=\"174.61914\"/>\n     <use style=\"fill:#ff0000;stroke:#ff0000;\" x=\"119.996534\" xlink:href=\"#m2447fb35ae\" y=\"179.617515\"/>\n     <use style=\"fill:#ff0000;stroke:#ff0000;\" x=\"126.206782\" xlink:href=\"#m2447fb35ae\" y=\"176.203816\"/>\n     <use style=\"fill:#ff0000;stroke:#ff0000;\" x=\"132.41703\" xlink:href=\"#m2447fb35ae\" y=\"166.955325\"/>\n     <use style=\"fill:#ff0000;stroke:#ff0000;\" x=\"138.627278\" xlink:href=\"#m2447fb35ae\" y=\"146.896353\"/>\n     <use style=\"fill:#ff0000;stroke:#ff0000;\" x=\"144.837526\" xlink:href=\"#m2447fb35ae\" y=\"147.515119\"/>\n     <use style=\"fill:#ff0000;stroke:#ff0000;\" x=\"151.047774\" xlink:href=\"#m2447fb35ae\" y=\"161.903886\"/>\n     <use style=\"fill:#ff0000;stroke:#ff0000;\" x=\"157.258022\" xlink:href=\"#m2447fb35ae\" y=\"161.128142\"/>\n     <use style=\"fill:#ff0000;stroke:#ff0000;\" x=\"163.46827\" xlink:href=\"#m2447fb35ae\" y=\"155.387369\"/>\n     <use style=\"fill:#ff0000;stroke:#ff0000;\" x=\"169.678518\" xlink:href=\"#m2447fb35ae\" y=\"151.919197\"/>\n     <use style=\"fill:#ff0000;stroke:#ff0000;\" x=\"175.888765\" xlink:href=\"#m2447fb35ae\" y=\"131.44248\"/>\n     <use style=\"fill:#ff0000;stroke:#ff0000;\" x=\"182.099013\" xlink:href=\"#m2447fb35ae\" y=\"142.690229\"/>\n     <use style=\"fill:#ff0000;stroke:#ff0000;\" x=\"188.309261\" xlink:href=\"#m2447fb35ae\" y=\"130.478406\"/>\n     <use style=\"fill:#ff0000;stroke:#ff0000;\" x=\"194.519509\" xlink:href=\"#m2447fb35ae\" y=\"129.224994\"/>\n     <use style=\"fill:#ff0000;stroke:#ff0000;\" x=\"200.729757\" xlink:href=\"#m2447fb35ae\" y=\"128.668627\"/>\n     <use style=\"fill:#ff0000;stroke:#ff0000;\" x=\"206.970749\" xlink:href=\"#m2447fb35ae\" y=\"126.405714\"/>\n     <use style=\"fill:#ff0000;stroke:#ff0000;\" x=\"213.180997\" xlink:href=\"#m2447fb35ae\" y=\"120.878601\"/>\n     <use style=\"fill:#ff0000;stroke:#ff0000;\" x=\"219.391245\" xlink:href=\"#m2447fb35ae\" y=\"118.404763\"/>\n     <use style=\"fill:#ff0000;stroke:#ff0000;\" x=\"225.601493\" xlink:href=\"#m2447fb35ae\" y=\"114.747017\"/>\n     <use style=\"fill:#ff0000;stroke:#ff0000;\" x=\"231.811741\" xlink:href=\"#m2447fb35ae\" y=\"112.963782\"/>\n     <use style=\"fill:#ff0000;stroke:#ff0000;\" x=\"238.021989\" xlink:href=\"#m2447fb35ae\" y=\"108.165576\"/>\n     <use style=\"fill:#ff0000;stroke:#ff0000;\" x=\"244.232237\" xlink:href=\"#m2447fb35ae\" y=\"103.762883\"/>\n     <use style=\"fill:#ff0000;stroke:#ff0000;\" x=\"250.442485\" xlink:href=\"#m2447fb35ae\" y=\"98.220149\"/>\n     <use style=\"fill:#ff0000;stroke:#ff0000;\" x=\"256.652732\" xlink:href=\"#m2447fb35ae\" y=\"98.600351\"/>\n     <use style=\"fill:#ff0000;stroke:#ff0000;\" x=\"262.86298\" xlink:href=\"#m2447fb35ae\" y=\"90.647954\"/>\n     <use style=\"fill:#ff0000;stroke:#ff0000;\" x=\"269.073228\" xlink:href=\"#m2447fb35ae\" y=\"86.640222\"/>\n     <use style=\"fill:#ff0000;stroke:#ff0000;\" x=\"275.283476\" xlink:href=\"#m2447fb35ae\" y=\"80.399945\"/>\n     <use style=\"fill:#ff0000;stroke:#ff0000;\" x=\"281.493724\" xlink:href=\"#m2447fb35ae\" y=\"75.281185\"/>\n     <use style=\"fill:#ff0000;stroke:#ff0000;\" x=\"287.703972\" xlink:href=\"#m2447fb35ae\" y=\"64.677993\"/>\n     <use style=\"fill:#ff0000;stroke:#ff0000;\" x=\"293.91422\" xlink:href=\"#m2447fb35ae\" y=\"63.995108\"/>\n     <use style=\"fill:#ff0000;stroke:#ff0000;\" x=\"300.124468\" xlink:href=\"#m2447fb35ae\" y=\"57.406667\"/>\n     <use style=\"fill:#ff0000;stroke:#ff0000;\" x=\"306.334716\" xlink:href=\"#m2447fb35ae\" y=\"49.02621\"/>\n     <use style=\"fill:#ff0000;stroke:#ff0000;\" x=\"312.544964\" xlink:href=\"#m2447fb35ae\" y=\"47.962026\"/>\n     <use style=\"fill:#ff0000;stroke:#ff0000;\" x=\"318.755212\" xlink:href=\"#m2447fb35ae\" y=\"37.953247\"/>\n     <use style=\"fill:#ff0000;stroke:#ff0000;\" x=\"324.96546\" xlink:href=\"#m2447fb35ae\" y=\"29.302852\"/>\n     <use style=\"fill:#ff0000;stroke:#ff0000;\" x=\"331.175708\" xlink:href=\"#m2447fb35ae\" y=\"30.980373\"/>\n     <use style=\"fill:#ff0000;stroke:#ff0000;\" x=\"337.385956\" xlink:href=\"#m2447fb35ae\" y=\"28.817432\"/>\n     <use style=\"fill:#ff0000;stroke:#ff0000;\" x=\"343.596204\" xlink:href=\"#m2447fb35ae\" y=\"20.396465\"/>\n     <use style=\"fill:#ff0000;stroke:#ff0000;\" x=\"349.806451\" xlink:href=\"#m2447fb35ae\" y=\"25.324731\"/>\n     <use style=\"fill:#ff0000;stroke:#ff0000;\" x=\"356.047443\" xlink:href=\"#m2447fb35ae\" y=\"20.531037\"/>\n    </g>\n   </g>\n   <g id=\"line2d_14\">\n    <path clip-path=\"url(#pdab59cb226)\" d=\"M 51.683807 218.069192 \nL 57.894055 216.554706 \nL 64.104303 214.863377 \nL 70.314551 213.072267 \nL 76.524799 211.210931 \nL 82.735046 209.2953 \nL 88.945294 207.335379 \nL 95.155542 205.338046 \nL 101.36579 203.308326 \nL 107.576038 201.250049 \nL 113.786286 199.166235 \nL 119.996534 197.059326 \nL 126.206782 194.931335 \nL 132.41703 192.783954 \nL 138.627278 190.618623 \nL 144.837526 188.436581 \nL 151.047774 186.238908 \nL 157.258022 184.026554 \nL 163.46827 181.800359 \nL 169.678518 179.561072 \nL 175.888765 177.309364 \nL 182.099013 175.045843 \nL 188.309261 172.771058 \nL 194.519509 170.485511 \nL 200.729757 168.189659 \nL 206.970749 165.872486 \nL 213.180997 163.557209 \nL 219.391245 161.232798 \nL 225.601493 158.899584 \nL 231.811741 156.557876 \nL 238.021989 154.207962 \nL 244.232237 151.850111 \nL 250.442485 149.484576 \nL 256.652732 147.111593 \nL 262.86298 144.731384 \nL 269.073228 142.344159 \nL 275.283476 139.950115 \nL 281.493724 137.54944 \nL 287.703972 135.14231 \nL 293.91422 132.728893 \nL 300.124468 130.309348 \nL 306.334716 127.883827 \nL 312.544964 125.452473 \nL 318.755212 123.015424 \nL 324.96546 120.572811 \nL 331.175708 118.124758 \nL 337.385956 115.671386 \nL 343.596204 113.212809 \nL 349.806451 110.749136 \nL 356.047443 108.268239 \n\" style=\"fill:none;stroke:#0000ff;stroke-linecap:square;stroke-width:1.5;\"/>\n   </g>\n   <g id=\"patch_3\">\n    <path d=\"M 36.465625 227.952829 \nL 36.465625 10.512829 \n\" style=\"fill:none;stroke:#000000;stroke-linecap:square;stroke-linejoin:miter;stroke-width:0.8;\"/>\n   </g>\n   <g id=\"patch_4\">\n    <path d=\"M 371.265625 227.952829 \nL 371.265625 10.512829 \n\" style=\"fill:none;stroke:#000000;stroke-linecap:square;stroke-linejoin:miter;stroke-width:0.8;\"/>\n   </g>\n   <g id=\"patch_5\">\n    <path d=\"M 36.465625 227.952829 \nL 371.265625 227.952829 \n\" style=\"fill:none;stroke:#000000;stroke-linecap:square;stroke-linejoin:miter;stroke-width:0.8;\"/>\n   </g>\n   <g id=\"patch_6\">\n    <path d=\"M 36.465625 10.512829 \nL 371.265625 10.512829 \n\" style=\"fill:none;stroke:#000000;stroke-linecap:square;stroke-linejoin:miter;stroke-width:0.8;\"/>\n   </g>\n  </g>\n </g>\n <defs>\n  <clipPath id=\"pdab59cb226\">\n   <rect height=\"217.44\" width=\"334.8\" x=\"36.465625\" y=\"10.512829\"/>\n  </clipPath>\n </defs>\n</svg>\n",
      "image/png": "[encoded data removed]"
     },
     "metadata": {
      "needs_background": "light"
     }
    }
   ],
   "source": [
    "%matplotlib inline\n",
    "import matplotlib.pyplot as plt\n",
    "import numpy as np\n",
    "\n",
    "ns = np.linspace(100, 10000, 50, dtype=np.int_)\n",
    "plt.plot(ns, [time_heapsort(n) for n in ns], 'r+')\n",
    "plt.plot(ns, ns*np.log2(ns)*0.01/10000, 'b') # O(n log n) plot\n",
    "plt.show()"
   ]
  }
 ],
 "metadata": {
  "kernelspec": {
   "name": "python373jvsc74a57bd0e534e48711db4d1e1c48977d0d14ff85b1f16d41bcc4fdfd88268a329b3c9d66",
   "display_name": "Python 3.7.3 64-bit"
  },
  "language_info": {
   "codemirror_mode": {
    "name": "ipython",
    "version": 3
   },
   "file_extension": ".py",
   "mimetype": "text/x-python",
   "name": "python",
   "nbconvert_exporter": "python",
   "pygments_lexer": "ipython3",
   "version": "3.7.3-final"
  },
  "name": "priority-queues-demo.ipynb",
  "org": null,
  "metadata": {
   "interpreter": {
    "hash": "e534e48711db4d1e1c48977d0d14ff85b1f16d41bcc4fdfd88268a329b3c9d66"
   }
  }
 },
 "nbformat": 4,
 "nbformat_minor": 0
}